{
 "cells": [
  {
   "cell_type": "code",
   "execution_count": 1,
   "metadata": {},
   "outputs": [],
   "source": [
    "\n",
    "from openai import OpenAI\n",
    "client = OpenAI()\n",
    "\n",
    "file1 = client.files.create(\n",
    "  file=open(\"doc.pdf\", \"rb\"),\n",
    "  purpose=\"assistants\"\n",
    ")\n"
   ]
  },
  {
   "cell_type": "code",
   "execution_count": 2,
   "metadata": {},
   "outputs": [
    {
     "data": {
      "text/plain": [
       "FileObject(id='file-sJvUxxLYbwS7B4LXpbWaCqb4', bytes=28856, created_at=1714827778, filename='doc.pdf', object='file', purpose='assistants', status='processed', status_details=None)"
      ]
     },
     "execution_count": 2,
     "metadata": {},
     "output_type": "execute_result"
    }
   ],
   "source": [
    "file1"
   ]
  },
  {
   "cell_type": "code",
   "execution_count": 4,
   "metadata": {},
   "outputs": [],
   "source": [
    "vector_store = client.beta.vector_stores.create(\n",
    "  name=\"Support FAQ\",\n",
    "  file_ids= [file1.id]\n",
    ")"
   ]
  },
  {
   "cell_type": "code",
   "execution_count": 5,
   "metadata": {},
   "outputs": [
    {
     "data": {
      "text/plain": [
       "'vs_l7uuSAnirZgPKhfnSriaOoTu'"
      ]
     },
     "execution_count": 5,
     "metadata": {},
     "output_type": "execute_result"
    }
   ],
   "source": [
    "vector_store.id"
   ]
  },
  {
   "cell_type": "code",
   "execution_count": 4,
   "metadata": {},
   "outputs": [],
   "source": [
    "\n",
    "from openai import OpenAI\n",
    "client = OpenAI()\n",
    "\n",
    "file2 = client.files.create(\n",
    "  file=open(\"people.pdf\", \"rb\"),\n",
    "  purpose=\"assistants\"\n",
    ")"
   ]
  },
  {
   "cell_type": "code",
   "execution_count": 5,
   "metadata": {},
   "outputs": [
    {
     "data": {
      "text/plain": [
       "'file-ztP2IhREM7n2fL8RS9wCHorm'"
      ]
     },
     "execution_count": 5,
     "metadata": {},
     "output_type": "execute_result"
    }
   ],
   "source": [
    "file2.id"
   ]
  },
  {
   "cell_type": "code",
   "execution_count": 6,
   "metadata": {},
   "outputs": [],
   "source": [
    "\n",
    "\n",
    "\n",
    "vector_store_file = client.beta.vector_stores.files.create(\n",
    "  vector_store_id='vs_l7uuSAnirZgPKhfnSriaOoTu',\n",
    "  file_id= 'file-ztP2IhREM7n2fL8RS9wCHorm'\n",
    ")"
   ]
  },
  {
   "cell_type": "code",
   "execution_count": 3,
   "metadata": {},
   "outputs": [
    {
     "name": "stdout",
     "output_type": "stream",
     "text": [
      "SyncCursorPage[VectorStoreFile](data=[VectorStoreFile(id='file-b9nLU82NhAcnZkT9ABvVCruZ', created_at=1716026085, last_error=None, object='vector_store.file', status='completed', usage_bytes=3078, vector_store_id='vs_l7uuSAnirZgPKhfnSriaOoTu'), VectorStoreFile(id='file-iGmWicUuoqEfymsw3Zfjif1p', created_at=1715858822, last_error=LastError(code='server_error', message='An internal error occurred.'), object='vector_store.file', status='failed', usage_bytes=0, vector_store_id='vs_l7uuSAnirZgPKhfnSriaOoTu')], object='list', first_id='file-b9nLU82NhAcnZkT9ABvVCruZ', last_id='file-iGmWicUuoqEfymsw3Zfjif1p', has_more=False)\n"
     ]
    }
   ],
   "source": [
    "from openai import OpenAI\n",
    "client = OpenAI()\n",
    "\n",
    "vector_store_files = client.beta.vector_stores.files.list(\n",
    "  vector_store_id='vs_l7uuSAnirZgPKhfnSriaOoTu'\n",
    ")\n",
    "print(vector_store_files)\n"
   ]
  },
  {
   "cell_type": "code",
   "execution_count": 6,
   "metadata": {},
   "outputs": [
    {
     "ename": "SyntaxError",
     "evalue": "positional argument follows keyword argument (464676131.py, line 8)",
     "output_type": "error",
     "traceback": [
      "\u001b[1;36m  Cell \u001b[1;32mIn[6], line 8\u001b[1;36m\u001b[0m\n\u001b[1;33m    )\u001b[0m\n\u001b[1;37m    ^\u001b[0m\n\u001b[1;31mSyntaxError\u001b[0m\u001b[1;31m:\u001b[0m positional argument follows keyword argument\n"
     ]
    }
   ],
   "source": [
    "from openai import OpenAI\n",
    "client = OpenAI()\n",
    "\n",
    "deleted_vector_store_file = client.beta.vector_stores.files.delete(\n",
    "    vector_store_id='vs_l7uuSAnirZgPKhfnSriaOoTu',\n",
    "    file_id=\"file-iGmWicUuoqEfymsw3Zfjif1p\"\n",
    ")\n",
    "print(deleted_vector_store_file)\n"
   ]
  },
  {
   "cell_type": "code",
   "execution_count": 4,
   "metadata": {},
   "outputs": [
    {
     "name": "stdout",
     "output_type": "stream",
     "text": [
      "SyncCursorPage[VectorStoreFile](data=[VectorStoreFile(id='file-b9nLU82NhAcnZkT9ABvVCruZ', created_at=1716026085, last_error=None, object='vector_store.file', status='completed', usage_bytes=3078, vector_store_id='vs_l7uuSAnirZgPKhfnSriaOoTu'), VectorStoreFile(id='file-iGmWicUuoqEfymsw3Zfjif1p', created_at=1715858822, last_error=LastError(code='server_error', message='An internal error occurred.'), object='vector_store.file', status='failed', usage_bytes=0, vector_store_id='vs_l7uuSAnirZgPKhfnSriaOoTu')], object='list', first_id='file-b9nLU82NhAcnZkT9ABvVCruZ', last_id='file-iGmWicUuoqEfymsw3Zfjif1p', has_more=False)\n"
     ]
    }
   ],
   "source": [
    "from openai import OpenAI\n",
    "client = OpenAI()\n",
    "\n",
    "vector_store_files = client.beta.vector_stores.files.list(\n",
    "  vector_store_id='vs_l7uuSAnirZgPKhfnSriaOoTu'\n",
    ")\n",
    "print(vector_store_files)"
   ]
  }
 ],
 "metadata": {
  "kernelspec": {
   "display_name": "Python 3",
   "language": "python",
   "name": "python3"
  },
  "language_info": {
   "codemirror_mode": {
    "name": "ipython",
    "version": 3
   },
   "file_extension": ".py",
   "mimetype": "text/x-python",
   "name": "python",
   "nbconvert_exporter": "python",
   "pygments_lexer": "ipython3",
   "version": "3.12.2"
  }
 },
 "nbformat": 4,
 "nbformat_minor": 2
}
