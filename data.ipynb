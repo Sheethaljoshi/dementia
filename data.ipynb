{
 "cells": [
  {
   "cell_type": "code",
   "execution_count": 1,
   "metadata": {},
   "outputs": [],
   "source": [
    "\n",
    "from openai import OpenAI\n",
    "client = OpenAI()\n",
    "\n",
    "file1 = client.files.create(\n",
    "  file=open(\"doc.pdf\", \"rb\"),\n",
    "  purpose=\"assistants\"\n",
    ")\n"
   ]
  },
  {
   "cell_type": "code",
   "execution_count": 2,
   "metadata": {},
   "outputs": [
    {
     "data": {
      "text/plain": [
       "FileObject(id='file-sJvUxxLYbwS7B4LXpbWaCqb4', bytes=28856, created_at=1714827778, filename='doc.pdf', object='file', purpose='assistants', status='processed', status_details=None)"
      ]
     },
     "execution_count": 2,
     "metadata": {},
     "output_type": "execute_result"
    }
   ],
   "source": [
    "file1"
   ]
  },
  {
   "cell_type": "code",
   "execution_count": 4,
   "metadata": {},
   "outputs": [],
   "source": [
    "vector_store = client.beta.vector_stores.create(\n",
    "  name=\"Support FAQ\",\n",
    "  file_ids= [file1.id]\n",
    ")"
   ]
  },
  {
   "cell_type": "code",
   "execution_count": 5,
   "metadata": {},
   "outputs": [
    {
     "data": {
      "text/plain": [
       "'vs_l7uuSAnirZgPKhfnSriaOoTu'"
      ]
     },
     "execution_count": 5,
     "metadata": {},
     "output_type": "execute_result"
    }
   ],
   "source": [
    "vector_store.id"
   ]
  },
  {
   "cell_type": "code",
   "execution_count": 4,
   "metadata": {},
   "outputs": [],
   "source": [
    "\n",
    "from openai import OpenAI\n",
    "client = OpenAI()\n",
    "\n",
    "file2 = client.files.create(\n",
    "  file=open(\"people.pdf\", \"rb\"),\n",
    "  purpose=\"assistants\"\n",
    ")"
   ]
  },
  {
   "cell_type": "code",
   "execution_count": 5,
   "metadata": {},
   "outputs": [
    {
     "data": {
      "text/plain": [
       "'file-ztP2IhREM7n2fL8RS9wCHorm'"
      ]
     },
     "execution_count": 5,
     "metadata": {},
     "output_type": "execute_result"
    }
   ],
   "source": [
    "file2.id"
   ]
  },
  {
   "cell_type": "code",
   "execution_count": 6,
   "metadata": {},
   "outputs": [],
   "source": [
    "\n",
    "\n",
    "\n",
    "vector_store_file = client.beta.vector_stores.files.create(\n",
    "  vector_store_id='vs_l7uuSAnirZgPKhfnSriaOoTu',\n",
    "  file_id= 'file-ztP2IhREM7n2fL8RS9wCHorm'\n",
    ")"
   ]
  },
  {
   "cell_type": "code",
   "execution_count": 7,
   "metadata": {},
   "outputs": [
    {
     "name": "stdout",
     "output_type": "stream",
     "text": [
      "SyncCursorPage[VectorStoreFile](data=[VectorStoreFile(id='file-ztP2IhREM7n2fL8RS9wCHorm', created_at=1714884668, last_error=None, object='vector_store.file', status='completed', usage_bytes=2903, vector_store_id='vs_l7uuSAnirZgPKhfnSriaOoTu'), VectorStoreFile(id='file-sJvUxxLYbwS7B4LXpbWaCqb4', created_at=1714828340, last_error=None, object='vector_store.file', status='completed', usage_bytes=2793, vector_store_id='vs_l7uuSAnirZgPKhfnSriaOoTu')], object='list', first_id='file-ztP2IhREM7n2fL8RS9wCHorm', last_id='file-sJvUxxLYbwS7B4LXpbWaCqb4', has_more=False)\n"
     ]
    }
   ],
   "source": [
    "from openai import OpenAI\n",
    "client = OpenAI()\n",
    "\n",
    "vector_store_files = client.beta.vector_stores.files.list(\n",
    "  vector_store_id='vs_l7uuSAnirZgPKhfnSriaOoTu'\n",
    ")\n",
    "print(vector_store_files)\n"
   ]
  }
 ],
 "metadata": {
  "kernelspec": {
   "display_name": "Python 3",
   "language": "python",
   "name": "python3"
  },
  "language_info": {
   "codemirror_mode": {
    "name": "ipython",
    "version": 3
   },
   "file_extension": ".py",
   "mimetype": "text/x-python",
   "name": "python",
   "nbconvert_exporter": "python",
   "pygments_lexer": "ipython3",
   "version": "3.12.2"
  }
 },
 "nbformat": 4,
 "nbformat_minor": 2
}
